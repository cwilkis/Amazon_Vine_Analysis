{
  "cells": [
    {
      "cell_type": "code",
      "execution_count": null,
      "metadata": {
        "id": "YUSssX_yGebk"
      },
      "outputs": [],
      "source": [
        "import os\n",
        "# Find the latest version of spark 3.0 from http://www.apache.org/dist/spark/ and enter as the spark version\n",
        "# For example:\n",
        "# spark_version = 'spark-3.2.1'\n",
        "spark_version = 'spark-3.2.1'\n",
        "os.environ['SPARK_VERSION']=spark_version\n",
        "\n",
        "# Install Spark and Java\n",
        "!apt-get update\n",
        "!apt-get install openjdk-11-jdk-headless -qq > /dev/null\n",
        "!wget -q http://www.apache.org/dist/spark/$SPARK_VERSION/$SPARK_VERSION-bin-hadoop2.7.tgz\n",
        "!tar xf $SPARK_VERSION-bin-hadoop2.7.tgz\n",
        "!pip install -q findspark\n",
        "\n",
        "# Set Environment Variables\n",
        "import os\n",
        "os.environ[\"JAVA_HOME\"] = \"/usr/lib/jvm/java-11-openjdk-amd64\"\n",
        "os.environ[\"SPARK_HOME\"] = f\"/content/{spark_version}-bin-hadoop2.7\"\n",
        "\n",
        "# Start a SparkSession\n",
        "import findspark\n",
        "findspark.init()"
      ]
    },
    {
      "cell_type": "code",
      "execution_count": null,
      "metadata": {
        "id": "rsYOzH6zGpYo"
      },
      "outputs": [],
      "source": [
        "# Download the Postgres driver that will allow Spark to interact with Postgres.\n",
        "!wget https://jdbc.postgresql.org/download/postgresql-42.2.16.jar"
      ]
    },
    {
      "cell_type": "code",
      "execution_count": null,
      "metadata": {
        "id": "z4OvZcZYGr9e"
      },
      "outputs": [],
      "source": [
        "from pyspark.sql import SparkSession\n",
        "spark = SparkSession.builder.appName(\"Amazon-Challenge\").config(\"spark.driver.extraClassPath\",\"/content/postgresql-42.2.16.jar\").getOrCreate()"
      ]
    },
    {
      "cell_type": "code",
      "execution_count": null,
      "metadata": {
        "id": "gw0TktenG3uX"
      },
      "outputs": [],
      "source": [
        "# Load in a sql function to use columns\n",
        "from pyspark.sql.functions import col"
      ]
    },
    {
      "cell_type": "code",
      "execution_count": null,
      "metadata": {
        "id": "zJT0rL2fG659"
      },
      "outputs": [],
      "source": [
        "from pyspark import SparkFiles\n",
        "url = \"https://s3.amazonaws.com/amazon-reviews-pds/tsv/amazon_reviews_us_Books_v1_02.tsv.gz\"\n",
        "spark.sparkContext.addFile(url)\n",
        "df = spark.read.option(\"encoding\", \"UTF-8\").csv(SparkFiles.get(\"\"), sep=\"\\t\", header=True, inferSchema=True)\n",
        "df.show()"
      ]
    },
    {
      "cell_type": "code",
      "execution_count": null,
      "metadata": {
        "id": "WG-_MticHNrG"
      },
      "outputs": [],
      "source": [
        "# Create the vine_table. DataFrame\n",
        "vine_df = df.select([\"review_id\",\"star_rating\",\"helpful_votes\",\"total_votes\",\"vine\",\"verified_purchase\"])\n",
        "vine_df.show()"
      ]
    },
    {
      "cell_type": "code",
      "execution_count": null,
      "metadata": {
        "id": "d1UXiuSHHjdd"
      },
      "outputs": [],
      "source": [
        "plus_20_votes_df = vine_df.filter(col(\"total_votes\")>20)\n",
        "plus_20_votes_df.show()"
      ]
    },
    {
      "cell_type": "code",
      "execution_count": null,
      "metadata": {
        "id": "xKGNx_QoHlzx"
      },
      "outputs": [],
      "source": [
        "# Filter dataframe for records with >50% helpful votes to total votes\n",
        "plus_50_pct_df = plus_20_votes_df.filter((col(\"helpful_votes\")/col(\"total_votes\"))>=.5)\n",
        "plus_50_pct_df.show()"
      ]
    },
    {
      "cell_type": "code",
      "execution_count": null,
      "metadata": {
        "id": "dj7cc_xCHnkN"
      },
      "outputs": [],
      "source": [
        "# Filter dataframe for reviews written as part of the Vine program \n",
        "vine_df = plus_50_pct_df.filter(col(\"vine\")==\"Y\")\n",
        "vine_df.show()"
      ]
    },
    {
      "cell_type": "code",
      "execution_count": null,
      "metadata": {
        "id": "hH-6bB8nHpyt"
      },
      "outputs": [],
      "source": [
        "# Filter dataframe for reviews written as part of the Vine program \n",
        "not_vine_df = plus_50_pct_df.filter(col(\"vine\")==\"N\")\n",
        "not_vine_df.show()"
      ]
    },
    {
      "cell_type": "code",
      "execution_count": null,
      "metadata": {
        "id": "QOv2pRKyHtHs"
      },
      "outputs": [],
      "source": [
        "# Determine total number of reviews\n",
        "total_reviews = plus_50_pct_df.count()\n",
        "total_reviews"
      ]
    },
    {
      "cell_type": "code",
      "execution_count": null,
      "metadata": {
        "id": "E6nbxav1Huya"
      },
      "outputs": [],
      "source": [
        "# Determine the total 5 star ratings\n",
        "# where method syntax found at https://www.geeksforgeeks.org/count-values-by-condition-in-pyspark-dataframe/\n",
        "total_5_star = plus_50_pct_df.select('star_rating').where(plus_50_pct_df.star_rating==5).count()\n",
        "total_5_star"
      ]
    },
    {
      "cell_type": "code",
      "execution_count": null,
      "metadata": {
        "id": "EeMEuslOHxHk"
      },
      "outputs": [],
      "source": [
        "# Determine total percentage of 5 start reviews\n",
        "total_prcnt_5_star = (total_5_star/total_reviews)*100\n",
        "total_prcnt_5_star"
      ]
    },
    {
      "cell_type": "code",
      "execution_count": null,
      "metadata": {
        "id": "yp4VeMG3Hxvo"
      },
      "outputs": [],
      "source": [
        "# Determine number of paid reviews\n",
        "number_paid = vine_df.count()\n",
        "number_paid"
      ]
    },
    {
      "cell_type": "code",
      "execution_count": null,
      "metadata": {
        "id": "7hBXvPFpHziE"
      },
      "outputs": [],
      "source": [
        "31\n",
        "# Determine the number 5 star paid reviews \n",
        "paid_5_star = vine_df.select('star_rating').where(vine_df.star_rating==5).count()\n",
        "paid_5_star"
      ]
    },
    {
      "cell_type": "code",
      "execution_count": null,
      "metadata": {
        "id": "h8YiizlYH1o2"
      },
      "outputs": [],
      "source": [
        "# Determine percentage of paid 5 star reviews\n",
        "prcnt_5_star_paid = (paid_5_star/number_paid)*100\n",
        "prcnt_5_star_paid"
      ]
    },
    {
      "cell_type": "code",
      "execution_count": null,
      "metadata": {
        "id": "JX8fj4tUH4Ar"
      },
      "outputs": [],
      "source": [
        "# Determine number of unpaid reviews\n",
        "number_unpaid = not_vine_df.count()\n",
        "number_unpaid"
      ]
    },
    {
      "cell_type": "code",
      "execution_count": null,
      "metadata": {
        "id": "ABJGvErFH6K_"
      },
      "outputs": [],
      "source": [
        "# Determine the number 5 star unpaid reviews \n",
        "unpaid_5_star = not_vine_df.select('star_rating').where(not_vine_df.star_rating==5).count()\n",
        "unpaid_5_star"
      ]
    },
    {
      "cell_type": "code",
      "execution_count": null,
      "metadata": {
        "id": "hgv84jXuH631"
      },
      "outputs": [],
      "source": [
        "# Determine percentage of unpaid 5 star reviews\n",
        "prcnt_5_star_unpaid = (unpaid_5_star/number_unpaid)*100\n",
        "prcnt_5_star_unpaid"
      ]
    }
  ],
  "metadata": {
    "colab": {
      "name": "Vine_review_analysis.ipynb",
      "provenance": []
    },
    "kernelspec": {
      "display_name": "Python 3",
      "name": "python3"
    },
    "language_info": {
      "name": "python"
    }
  },
  "nbformat": 4,
  "nbformat_minor": 0
}
